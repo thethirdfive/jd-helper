{
 "cells": [
  {
   "cell_type": "code",
   "execution_count": 2,
   "metadata": {},
   "outputs": [
    {
     "name": "stderr",
     "output_type": "stream",
     "text": [
      "/var/folders/02/zwgb7mj513z4zqmy0v96lscm0000gn/T/ipykernel_4305/1637978161.py:13: DeprecationWarning: use options instead of chrome_options\n",
      "  browser = webdriver.Chrome(chrome_options=options)\n"
     ]
    },
    {
     "name": "stdout",
     "output_type": "stream",
     "text": [
      "长寿药重磅,行业首个标准曝光,填补国内空白,利好频频,年内三家公司获准,附股,获取,中,符后的字串,上海出台氢能产业发展中长期规划,打造东亚地区氢能贸易和交易中心,推动更多氢能产业企业在科创板上市,超,亿元规模可转债市场迎监管升级,专家称融资功能不受影响,需求大增,光伏装机海外市场有望超预期增长,资金加仓机构扎堆评级概念股,东方甄选粉丝破千万,有望带来产业链共赢,华为比亚迪齐聚这家碳化硅企业,行业顶流共同发力虚拟现实,今年,预制菜火了,打开,长寿药重磅,行业首个标准曝光,填补国内空白,利好频频,年内三家公司获准,附股,证券时报,数据宝,华润双鹤,华润双鹤,德展健康,德展健康,众生药业,众生药业,百合股份,百合股份,安琪酵母,安琪酵母,银禧科技,银禧科技,公告,原文附件,查看,行业首个标准公布,填补国内空白,今年内三家公司的,作为化妆品原料获国家,药监局,批准,近日,由中国中小商业企业协会归口,基因港,香港,生物科技有限公司提出,余姚莱孚斯本健康科技有限公司等联合起草的,化妆品用原料,烟酰胺单核苷酸,团体标准已完成征求意见稿,正式向社会公开征求意见,值得注意是,月,日,团体标准编制组曾召开该标准研讨会,提出后期,化妆品用原料,标准,将进一步申请化妆品用原料,的国家标准和国际标准,这意味着,化妆品用原料,烟酰胺单核苷酸,团体标准将可能成为该领域首个国家标准,进入化妆品原料利好频频,烟酰胺单核苷酸即,的全称,是,的直接前体,人体,的能量供应都离不开,的参与,对人的健康有着重要影响,是近年来保健品领域内最为火爆的产品之一,因其宣称的抗衰老功效而被冠以,长寿药,的名头,作为保健品,目前国内公司尚未获得许可,但作为化妆品,三家公司今年内获得国家药监局备案,今年,月,月,有两家企业获得,化妆品新原料备案,分别为余姚莱孚斯本和康盈红莓,月,深圳维琪的,烟酰胺单核苷酸,也获得备案通过,不到半年时间,连续三家企业成功备案化妆品原料,对,无疑是一个利好的指向,由于,是个新事物,国内相关标准缺失,本次化妆品用原料,标准公布,填补国内该行业的空白,因其宣传的抗衰老性而被消费者追捧,且售价不菲,年,日本新兴和公司首次实现,产品化,售价一度超,万元,粒,产品于,年首次进入中国,主要通过电商平台购买,主要产地为日本,法国,美国等等,第三方数据显示,该产品复购率约为,由于没有明确批文,一直游走在合规与否的边缘,去年,月,国家监管总局发文称,作为食品原料的定位及安全性尚不明确,缺少食品安全国家标准,作为保健食品原料条件尚不成熟,需要进一步加强监测和研究,但支持,及相关产品的基础性研究,引导,及相关产品规范发展,远期市场规模有望达到千亿,艾媒咨询报告指出,年中国,成分保健品市场规模达,亿元,同比增长,预计到,年将会以近,的增速攀升至,亿元,行业发展速度较快,中信证券研报曾指出,中国保健品行业过去,年复合增速,当前国内每,保健品人口对应的,市场空间为,亿元,伴随未来抗衰老产品不断推广,行业远期市场有望达到千亿规模,国信证券报告也表示,行业远期市场有望达到千亿规模,股公司中,相关概念股有,余只,金达威,表示食品级,化妆品级的,均有在建设中,面膜的研发尚在市场调研中,旗下多特倍斯的,已允许亚马逊上架,兄弟科技,建成年产,吨烟酰胺项目,来用于合成,众生药业,全资子公司正在进行,的开发工作,德展健康,表示,产品处研发阶段,特一药业已开展对,立项和开展工艺研究,行情方面,华润双鹤,红太阳,兄弟科技,众生药业,等年内股价上涨,安琪酵母,银禧科技,百合股份,等年内跌幅超,阅读,收藏,微信,朋友圈,精彩评论,写评论,抢沙发,查看更多,免责声明,市场有风险,投资需谨慎,本资讯中的内容和意见仅供参考,并不构成对所述证券买卖做出保证,投资者不应将本资讯作为投资决策的唯一参考因素,亦不应以本资讯取代自己的判断,在任何情况下,海通证券不对任何人因使用本平台中的内容所引致的任何损失负任何责任,暂无数据,请点击右上角,选择,在浏览器中打开,发表观点,\n"
     ]
    }
   ],
   "source": [
    "import requests\n",
    "from bs4 import BeautifulSoup\n",
    "from selenium import webdriver\n",
    "import time\n",
    "import re\n",
    "\n",
    " # selenium配置\n",
    "options = webdriver.ChromeOptions()\n",
    "prefs = {\"profile.managed_default_content_settings.images\": 2}\n",
    "options.add_experimental_option(\"prefs\", prefs)\n",
    "options.add_argument('--headless')\n",
    "\n",
    "browser = webdriver.Chrome(chrome_options=options)\n",
    "\n",
    "url = 'https://stockinfo.htsec.com:19091/htsecNewsDetail/view/htsecNews/index.html?newstype=stocknews&sourcetype=cross&sharefrom=app&id=1654774951827110&type=news&appver=8.80&version=8.80&channel=ios'\n",
    "\n",
    "browser.get(url)\n",
    "\n",
    "time.sleep(5)\n",
    "text = browser.page_source\n",
    "\n",
    "regStr = \".*?([\\u4E00-\\u9FA5]+).*?\"\n",
    "aa = re.findall(regStr, text)\n",
    "\n",
    "content = \"\"\n",
    "for a in aa:\n",
    "    content += a + \",\"\n",
    "print(content)\n",
    "browser.quit()"
   ]
  }
 ],
 "metadata": {
  "kernelspec": {
   "display_name": "Python 3.8.9 ('venv': venv)",
   "language": "python",
   "name": "python3"
  },
  "language_info": {
   "codemirror_mode": {
    "name": "ipython",
    "version": 3
   },
   "file_extension": ".py",
   "mimetype": "text/x-python",
   "name": "python",
   "nbconvert_exporter": "python",
   "pygments_lexer": "ipython3",
   "version": "3.8.9"
  },
  "orig_nbformat": 4,
  "vscode": {
   "interpreter": {
    "hash": "ab35a5c20ef309bdddfdf8f80a997c01006c329624d2e7d8d6b729ee2c9992fa"
   }
  }
 },
 "nbformat": 4,
 "nbformat_minor": 2
}
