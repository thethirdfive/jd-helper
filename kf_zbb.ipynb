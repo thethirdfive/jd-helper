{
 "cells": [
  {
   "cell_type": "code",
   "execution_count": 3,
   "metadata": {},
   "outputs": [
    {
     "name": "stdout",
     "output_type": "stream",
     "text": [
      "2022-06-14   季雅囡\n",
      "2022-06-15   雷轩\n",
      "2022-06-16   丁沪婉\n",
      "2022-06-17   闻毓\n",
      "2022-06-18   张宪刚\n",
      "2022-06-19   马凤华\n",
      "2022-06-20   季雅囡\n",
      "2022-06-21   雷轩\n",
      "2022-06-22   丁沪婉\n",
      "2022-06-23   闻毓\n",
      "2022-06-24   张宪刚\n",
      "2022-06-25   马凤华\n",
      "2022-06-26   季雅囡\n",
      "2022-06-27   雷轩\n",
      "2022-06-28   丁沪婉\n",
      "2022-06-29   闻毓\n",
      "2022-06-30   张宪刚\n",
      "2022-07-01   马凤华\n",
      "2022-07-02   季雅囡\n",
      "2022-07-03   雷轩\n",
      "2022-07-04   丁沪婉\n",
      "2022-07-05   闻毓\n",
      "2022-07-06   张宪刚\n",
      "2022-07-07   马凤华\n",
      "2022-07-08   季雅囡\n",
      "2022-07-09   雷轩\n",
      "2022-07-10   丁沪婉\n",
      "2022-07-11   闻毓\n",
      "2022-07-12   张宪刚\n",
      "2022-07-13   马凤华\n",
      "2022-07-14   季雅囡\n",
      "2022-07-15   雷轩\n",
      "2022-07-16   丁沪婉\n",
      "2022-07-17   闻毓\n",
      "2022-07-18   张宪刚\n",
      "2022-07-19   马凤华\n",
      "2022-07-20   季雅囡\n",
      "2022-07-21   雷轩\n",
      "2022-07-22   丁沪婉\n",
      "2022-07-23   闻毓\n",
      "2022-07-24   张宪刚\n",
      "2022-07-25   马凤华\n",
      "2022-07-26   季雅囡\n",
      "2022-07-27   雷轩\n",
      "2022-07-28   丁沪婉\n",
      "2022-07-29   闻毓\n",
      "2022-07-30   张宪刚\n",
      "2022-07-31   马凤华\n"
     ]
    }
   ],
   "source": [
    "import datetime\n",
    "import time\n",
    "import pandas as pd\n",
    "from datetime import datetime\n",
    "\n",
    "date_l = [datetime.strftime(x, '%Y-%m-%d')\n",
    "            for x in list(pd.date_range(start='2022-06-14', end='2022-07-31'))]\n",
    "\n",
    "kf = ['季雅囡','雷轩','丁沪婉','闻毓','张宪刚', '马凤华']\n",
    "kf_zbb = {}\n",
    "i = 0\n",
    "for d in date_l:\n",
    "    kf_zbb[d] = kf[i%kf.__len__()]\n",
    "    i += 1\n",
    "for kf in kf_zbb:   \n",
    "    print(\"{}   {}\".format(kf,kf_zbb[kf]))"
   ]
  }
 ],
 "metadata": {
  "kernelspec": {
   "display_name": "Python 3.8.9 ('venv': venv)",
   "language": "python",
   "name": "python3"
  },
  "language_info": {
   "codemirror_mode": {
    "name": "ipython",
    "version": 3
   },
   "file_extension": ".py",
   "mimetype": "text/x-python",
   "name": "python",
   "nbconvert_exporter": "python",
   "pygments_lexer": "ipython3",
   "version": "3.8.9"
  },
  "orig_nbformat": 4,
  "vscode": {
   "interpreter": {
    "hash": "ab35a5c20ef309bdddfdf8f80a997c01006c329624d2e7d8d6b729ee2c9992fa"
   }
  }
 },
 "nbformat": 4,
 "nbformat_minor": 2
}
