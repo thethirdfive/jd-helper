{
 "cells": [
  {
   "cell_type": "code",
   "execution_count": null,
   "metadata": {},
   "outputs": [],
   "source": [
    "import datetime\n",
    "import time\n",
    "import pandas as pd\n",
    "from datetime import datetime\n",
    "\n",
    "date_l = [datetime.strftime(x, '%Y-%m-%d')\n",
    "            for x in list(pd.date_range(start='2022-06-14', end='2022-12-31'))]\n",
    "\n",
    "\n",
    "kf = ['季雅囡','雷轩','丁沪婉','闻毓','张宪刚', '马凤华']\n",
    "kf_zbb = {}\n",
    "i = 0\n",
    "for d in date_l:\n",
    "    kf_zbb[d] = kf[i%kf.__len__()]\n",
    "    i += 1\n",
    "print(kf_zbb)"
   ]
  },
  {
   "cell_type": "code",
   "execution_count": null,
   "metadata": {},
   "outputs": [],
   "source": [
    "import app\n",
    "\n",
    "app.format_kucun()"
   ]
  }
 ],
 "metadata": {
  "kernelspec": {
   "display_name": "Python 3.8.9 ('venv': venv)",
   "language": "python",
   "name": "python3"
  },
  "language_info": {
   "codemirror_mode": {
    "name": "ipython",
    "version": 3
   },
   "file_extension": ".py",
   "mimetype": "text/x-python",
   "name": "python",
   "nbconvert_exporter": "python",
   "pygments_lexer": "ipython3",
   "version": "3.8.9"
  },
  "orig_nbformat": 4,
  "vscode": {
   "interpreter": {
    "hash": "ab35a5c20ef309bdddfdf8f80a997c01006c329624d2e7d8d6b729ee2c9992fa"
   }
  }
 },
 "nbformat": 4,
 "nbformat_minor": 2
}
